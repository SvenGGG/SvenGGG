{
  "nbformat": 4,
  "nbformat_minor": 0,
  "metadata": {
    "colab": {
      "name": "Untitled2.ipynb",
      "provenance": [],
      "collapsed_sections": [],
      "authorship_tag": "ABX9TyMw7BUbDmuFtRtBbX+3DAPU",
      "include_colab_link": true
    },
    "kernelspec": {
      "name": "python3",
      "display_name": "Python 3"
    },
    "language_info": {
      "name": "python"
    }
  },
  "cells": [
    {
      "cell_type": "markdown",
      "metadata": {
        "id": "view-in-github",
        "colab_type": "text"
      },
      "source": [
        "<a href=\"https://colab.research.google.com/github/SvenGGG/SvenGGG/blob/main/submission.ipynb\" target=\"_parent\"><img src=\"https://colab.research.google.com/assets/colab-badge.svg\" alt=\"Open In Colab\"/></a>"
      ]
    },
    {
      "cell_type": "code",
      "execution_count": 1,
      "metadata": {
        "id": "CvvH-XF0eblp"
      },
      "outputs": [],
      "source": [
        "mutual_info_n1 = 0.816\n",
        "mutual_info_n2 = 1.052\n",
        "max_mutual_info = 3.322\n",
        "mutual_info_n1_b10 = 0.555\n",
        "mutual_info_n2_b10 = 0.937\n",
        "mn_n1_stim7 = 34.3\n",
        "mn_n1_stim8 = 45.15\n",
        "var_n1 = 298.473"
      ]
    },
    {
      "cell_type": "code",
      "source": [
        ""
      ],
      "metadata": {
        "id": "rCIWrQJHe1a8"
      },
      "execution_count": null,
      "outputs": []
    }
  ]
}